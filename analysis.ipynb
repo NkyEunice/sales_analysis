{
 "cells": [
  {
   "cell_type": "code",
   "execution_count": 1,
   "id": "5b6886bf",
   "metadata": {},
   "outputs": [],
   "source": [
    "import pandas as pd\n",
    "import matplotlib.pyplot as plt\n",
    "import seaborn as sns"
   ]
  },
  {
   "cell_type": "code",
   "execution_count": 2,
   "id": "2b3647f8",
   "metadata": {},
   "outputs": [],
   "source": [
    "sales_df = pd.read_csv(\"dataset/sales_data.csv\")"
   ]
  },
  {
   "cell_type": "code",
   "execution_count": 3,
   "id": "653b7e9d",
   "metadata": {},
   "outputs": [
    {
     "data": {
      "text/html": [
       "<div>\n",
       "<style scoped>\n",
       "    .dataframe tbody tr th:only-of-type {\n",
       "        vertical-align: middle;\n",
       "    }\n",
       "\n",
       "    .dataframe tbody tr th {\n",
       "        vertical-align: top;\n",
       "    }\n",
       "\n",
       "    .dataframe thead th {\n",
       "        text-align: right;\n",
       "    }\n",
       "</style>\n",
       "<table border=\"1\" class=\"dataframe\">\n",
       "  <thead>\n",
       "    <tr style=\"text-align: right;\">\n",
       "      <th></th>\n",
       "      <th>date</th>\n",
       "      <th>warehouse</th>\n",
       "      <th>client_type</th>\n",
       "      <th>product_line</th>\n",
       "      <th>quantity</th>\n",
       "      <th>unit_price</th>\n",
       "      <th>total</th>\n",
       "      <th>payment</th>\n",
       "    </tr>\n",
       "  </thead>\n",
       "  <tbody>\n",
       "    <tr>\n",
       "      <th>0</th>\n",
       "      <td>2021-06-01</td>\n",
       "      <td>Central</td>\n",
       "      <td>Retail</td>\n",
       "      <td>Miscellaneous</td>\n",
       "      <td>8</td>\n",
       "      <td>16.85</td>\n",
       "      <td>134.83</td>\n",
       "      <td>Credit card</td>\n",
       "    </tr>\n",
       "    <tr>\n",
       "      <th>1</th>\n",
       "      <td>2021-06-01</td>\n",
       "      <td>North</td>\n",
       "      <td>Retail</td>\n",
       "      <td>Breaking system</td>\n",
       "      <td>9</td>\n",
       "      <td>19.29</td>\n",
       "      <td>173.61</td>\n",
       "      <td>Cash</td>\n",
       "    </tr>\n",
       "    <tr>\n",
       "      <th>2</th>\n",
       "      <td>2021-06-01</td>\n",
       "      <td>North</td>\n",
       "      <td>Retail</td>\n",
       "      <td>Suspension &amp; traction</td>\n",
       "      <td>8</td>\n",
       "      <td>32.93</td>\n",
       "      <td>263.45</td>\n",
       "      <td>Credit card</td>\n",
       "    </tr>\n",
       "    <tr>\n",
       "      <th>3</th>\n",
       "      <td>2021-06-01</td>\n",
       "      <td>North</td>\n",
       "      <td>Wholesale</td>\n",
       "      <td>Frame &amp; body</td>\n",
       "      <td>16</td>\n",
       "      <td>37.84</td>\n",
       "      <td>605.44</td>\n",
       "      <td>Transfer</td>\n",
       "    </tr>\n",
       "    <tr>\n",
       "      <th>4</th>\n",
       "      <td>2021-06-01</td>\n",
       "      <td>Central</td>\n",
       "      <td>Retail</td>\n",
       "      <td>Engine</td>\n",
       "      <td>2</td>\n",
       "      <td>60.48</td>\n",
       "      <td>120.96</td>\n",
       "      <td>Credit card</td>\n",
       "    </tr>\n",
       "  </tbody>\n",
       "</table>\n",
       "</div>"
      ],
      "text/plain": [
       "         date warehouse client_type           product_line  quantity  \\\n",
       "0  2021-06-01   Central      Retail          Miscellaneous         8   \n",
       "1  2021-06-01     North      Retail        Breaking system         9   \n",
       "2  2021-06-01     North      Retail  Suspension & traction         8   \n",
       "3  2021-06-01     North   Wholesale           Frame & body        16   \n",
       "4  2021-06-01   Central      Retail                 Engine         2   \n",
       "\n",
       "   unit_price   total      payment  \n",
       "0       16.85  134.83  Credit card  \n",
       "1       19.29  173.61         Cash  \n",
       "2       32.93  263.45  Credit card  \n",
       "3       37.84  605.44     Transfer  \n",
       "4       60.48  120.96  Credit card  "
      ]
     },
     "execution_count": 3,
     "metadata": {},
     "output_type": "execute_result"
    }
   ],
   "source": [
    "sales_df.head()"
   ]
  },
  {
   "cell_type": "markdown",
   "id": "983234b7",
   "metadata": {},
   "source": [
    "date - The date from June to August 2021\n",
    "\n",
    "warehouse - The company operates three warehouses: North, Central, and West.\n",
    "\n",
    "client-type - Retail and Wholesale\n",
    "\n",
    "product_line - Types of products purchased\n",
    "\n",
    "quantity - How many items were purchased\n",
    "\n",
    "unit_price - price per item sold\n",
    "\n",
    "total - quantity*unit price\n",
    "\n",
    "payment - Cash, Credit card, Transfer\n"
   ]
  },
  {
   "cell_type": "code",
   "execution_count": 5,
   "id": "37a609b6",
   "metadata": {},
   "outputs": [
    {
     "name": "stdout",
     "output_type": "stream",
     "text": [
      "<class 'pandas.core.frame.DataFrame'>\n",
      "RangeIndex: 1000 entries, 0 to 999\n",
      "Data columns (total 8 columns):\n",
      " #   Column        Non-Null Count  Dtype  \n",
      "---  ------        --------------  -----  \n",
      " 0   date          1000 non-null   object \n",
      " 1   warehouse     1000 non-null   object \n",
      " 2   client_type   1000 non-null   object \n",
      " 3   product_line  1000 non-null   object \n",
      " 4   quantity      1000 non-null   int64  \n",
      " 5   unit_price    1000 non-null   float64\n",
      " 6   total         1000 non-null   float64\n",
      " 7   payment       1000 non-null   object \n",
      "dtypes: float64(2), int64(1), object(5)\n",
      "memory usage: 62.6+ KB\n"
     ]
    }
   ],
   "source": [
    "sales_df.info()"
   ]
  },
  {
   "cell_type": "code",
   "execution_count": 6,
   "id": "4d3cc558",
   "metadata": {},
   "outputs": [],
   "source": [
    "sales_df['date']=pd.to_datetime(sales_df[\"date\"])"
   ]
  },
  {
   "cell_type": "code",
   "execution_count": 7,
   "id": "87a2b400",
   "metadata": {},
   "outputs": [
    {
     "name": "stdout",
     "output_type": "stream",
     "text": [
      "<class 'pandas.core.frame.DataFrame'>\n",
      "RangeIndex: 1000 entries, 0 to 999\n",
      "Data columns (total 8 columns):\n",
      " #   Column        Non-Null Count  Dtype         \n",
      "---  ------        --------------  -----         \n",
      " 0   date          1000 non-null   datetime64[ns]\n",
      " 1   warehouse     1000 non-null   object        \n",
      " 2   client_type   1000 non-null   object        \n",
      " 3   product_line  1000 non-null   object        \n",
      " 4   quantity      1000 non-null   int64         \n",
      " 5   unit_price    1000 non-null   float64       \n",
      " 6   total         1000 non-null   float64       \n",
      " 7   payment       1000 non-null   object        \n",
      "dtypes: datetime64[ns](1), float64(2), int64(1), object(4)\n",
      "memory usage: 62.6+ KB\n"
     ]
    }
   ],
   "source": [
    "sales_df.info()"
   ]
  },
  {
   "cell_type": "code",
   "execution_count": 8,
   "id": "52f45bc4",
   "metadata": {},
   "outputs": [
    {
     "data": {
      "text/plain": [
       "date            0\n",
       "warehouse       0\n",
       "client_type     0\n",
       "product_line    0\n",
       "quantity        0\n",
       "unit_price      0\n",
       "total           0\n",
       "payment         0\n",
       "dtype: int64"
      ]
     },
     "execution_count": 8,
     "metadata": {},
     "output_type": "execute_result"
    }
   ],
   "source": [
    "sales_df.isna().sum()"
   ]
  },
  {
   "cell_type": "code",
   "execution_count": 9,
   "id": "b08ecd60",
   "metadata": {},
   "outputs": [
    {
     "data": {
      "text/plain": [
       "0"
      ]
     },
     "execution_count": 9,
     "metadata": {},
     "output_type": "execute_result"
    }
   ],
   "source": [
    "sales_df.duplicated().sum()"
   ]
  },
  {
   "cell_type": "code",
   "execution_count": 15,
   "id": "faa25937",
   "metadata": {},
   "outputs": [
    {
     "data": {
      "text/plain": [
       "<Figure size 640x480 with 0 Axes>"
      ]
     },
     "metadata": {},
     "output_type": "display_data"
    }
   ],
   "source": [
    "sns.boxplot(x=\"total\", data =sales_df)\n",
    "#plt.show()\n",
    "plt.clf()"
   ]
  },
  {
   "cell_type": "code",
   "execution_count": 11,
   "id": "6d9cf887",
   "metadata": {},
   "outputs": [
    {
     "data": {
      "text/plain": [
       "<Figure size 640x480 with 0 Axes>"
      ]
     },
     "metadata": {},
     "output_type": "display_data"
    }
   ],
   "source": [
    "plt.clf()"
   ]
  },
  {
   "cell_type": "code",
   "execution_count": 16,
   "id": "b1399fa3",
   "metadata": {},
   "outputs": [],
   "source": [
    "total_sale_per_payment= sales_df.groupby(\"payment\", as_index =False)[\"total\"].sum()"
   ]
  },
  {
   "cell_type": "code",
   "execution_count": 17,
   "id": "37538a38",
   "metadata": {},
   "outputs": [
    {
     "data": {
      "text/html": [
       "<div>\n",
       "<style scoped>\n",
       "    .dataframe tbody tr th:only-of-type {\n",
       "        vertical-align: middle;\n",
       "    }\n",
       "\n",
       "    .dataframe tbody tr th {\n",
       "        vertical-align: top;\n",
       "    }\n",
       "\n",
       "    .dataframe thead th {\n",
       "        text-align: right;\n",
       "    }\n",
       "</style>\n",
       "<table border=\"1\" class=\"dataframe\">\n",
       "  <thead>\n",
       "    <tr style=\"text-align: right;\">\n",
       "      <th></th>\n",
       "      <th>payment</th>\n",
       "      <th>total</th>\n",
       "    </tr>\n",
       "  </thead>\n",
       "  <tbody>\n",
       "    <tr>\n",
       "      <th>0</th>\n",
       "      <td>Cash</td>\n",
       "      <td>19199.10</td>\n",
       "    </tr>\n",
       "    <tr>\n",
       "      <th>1</th>\n",
       "      <td>Credit card</td>\n",
       "      <td>110271.57</td>\n",
       "    </tr>\n",
       "    <tr>\n",
       "      <th>2</th>\n",
       "      <td>Transfer</td>\n",
       "      <td>159642.33</td>\n",
       "    </tr>\n",
       "  </tbody>\n",
       "</table>\n",
       "</div>"
      ],
      "text/plain": [
       "       payment      total\n",
       "0         Cash   19199.10\n",
       "1  Credit card  110271.57\n",
       "2     Transfer  159642.33"
      ]
     },
     "execution_count": 17,
     "metadata": {},
     "output_type": "execute_result"
    }
   ],
   "source": [
    "total_sale_per_payment\n"
   ]
  },
  {
   "cell_type": "code",
   "execution_count": 18,
   "id": "42cae6bc",
   "metadata": {},
   "outputs": [
    {
     "data": {
      "image/png": "[encoded data removed]",
      "text/plain": [
       "<Figure size 640x480 with 1 Axes>"
      ]
     },
     "metadata": {},
     "output_type": "display_data"
    }
   ],
   "source": [
    "sns.barplot(x=\"payment\", y= \"total\", data = total_sale_per_payment)\n",
    "plt.show()"
   ]
  },
  {
   "cell_type": "code",
   "execution_count": 20,
   "id": "e98a58d7",
   "metadata": {},
   "outputs": [
    {
     "data": {
      "text/html": [
       "<div>\n",
       "<style scoped>\n",
       "    .dataframe tbody tr th:only-of-type {\n",
       "        vertical-align: middle;\n",
       "    }\n",
       "\n",
       "    .dataframe tbody tr th {\n",
       "        vertical-align: top;\n",
       "    }\n",
       "\n",
       "    .dataframe thead th {\n",
       "        text-align: right;\n",
       "    }\n",
       "</style>\n",
       "<table border=\"1\" class=\"dataframe\">\n",
       "  <thead>\n",
       "    <tr style=\"text-align: right;\">\n",
       "      <th></th>\n",
       "      <th>product_line</th>\n",
       "      <th>unit_price</th>\n",
       "    </tr>\n",
       "  </thead>\n",
       "  <tbody>\n",
       "    <tr>\n",
       "      <th>0</th>\n",
       "      <td>Breaking system</td>\n",
       "      <td>17.740522</td>\n",
       "    </tr>\n",
       "    <tr>\n",
       "      <th>1</th>\n",
       "      <td>Electrical system</td>\n",
       "      <td>25.585130</td>\n",
       "    </tr>\n",
       "    <tr>\n",
       "      <th>2</th>\n",
       "      <td>Engine</td>\n",
       "      <td>60.091803</td>\n",
       "    </tr>\n",
       "    <tr>\n",
       "      <th>3</th>\n",
       "      <td>Frame &amp; body</td>\n",
       "      <td>42.832229</td>\n",
       "    </tr>\n",
       "    <tr>\n",
       "      <th>4</th>\n",
       "      <td>Miscellaneous</td>\n",
       "      <td>22.810738</td>\n",
       "    </tr>\n",
       "    <tr>\n",
       "      <th>5</th>\n",
       "      <td>Suspension &amp; traction</td>\n",
       "      <td>33.969868</td>\n",
       "    </tr>\n",
       "  </tbody>\n",
       "</table>\n",
       "</div>"
      ],
      "text/plain": [
       "            product_line  unit_price\n",
       "0        Breaking system   17.740522\n",
       "1      Electrical system   25.585130\n",
       "2                 Engine   60.091803\n",
       "3           Frame & body   42.832229\n",
       "4          Miscellaneous   22.810738\n",
       "5  Suspension & traction   33.969868"
      ]
     },
     "execution_count": 20,
     "metadata": {},
     "output_type": "execute_result"
    }
   ],
   "source": [
    "ave_unit_price = sales_df.groupby('product_line', as_index=False)['unit_price'].mean()\n",
    "ave_unit_price"
   ]
  },
  {
   "cell_type": "code",
   "execution_count": 23,
   "id": "3918b8ad",
   "metadata": {},
   "outputs": [
    {
     "data": {
      "image/png": "[encoded data removed]",
      "text/plain": [
       "<Figure size 640x480 with 1 Axes>"
      ]
     },
     "metadata": {},
     "output_type": "display_data"
    }
   ],
   "source": [
    "sns.barplot(x=\"product_line\", y = 'unit_price', data = ave_unit_price)\n",
    "plt.xticks(rotation = 90)\n",
    "plt.show()"
   ]
  },
  {
   "cell_type": "code",
   "execution_count": 24,
   "id": "b4a8cd82",
   "metadata": {},
   "outputs": [
    {
     "data": {
      "text/html": [
       "<div>\n",
       "<style scoped>\n",
       "    .dataframe tbody tr th:only-of-type {\n",
       "        vertical-align: middle;\n",
       "    }\n",
       "\n",
       "    .dataframe tbody tr th {\n",
       "        vertical-align: top;\n",
       "    }\n",
       "\n",
       "    .dataframe thead th {\n",
       "        text-align: right;\n",
       "    }\n",
       "</style>\n",
       "<table border=\"1\" class=\"dataframe\">\n",
       "  <thead>\n",
       "    <tr style=\"text-align: right;\">\n",
       "      <th></th>\n",
       "      <th>date</th>\n",
       "      <th>warehouse</th>\n",
       "      <th>client_type</th>\n",
       "      <th>product_line</th>\n",
       "      <th>quantity</th>\n",
       "      <th>unit_price</th>\n",
       "      <th>total</th>\n",
       "      <th>payment</th>\n",
       "    </tr>\n",
       "  </thead>\n",
       "  <tbody>\n",
       "    <tr>\n",
       "      <th>0</th>\n",
       "      <td>2021-06-01</td>\n",
       "      <td>Central</td>\n",
       "      <td>Retail</td>\n",
       "      <td>Miscellaneous</td>\n",
       "      <td>8</td>\n",
       "      <td>16.85</td>\n",
       "      <td>134.83</td>\n",
       "      <td>Credit card</td>\n",
       "    </tr>\n",
       "    <tr>\n",
       "      <th>1</th>\n",
       "      <td>2021-06-01</td>\n",
       "      <td>North</td>\n",
       "      <td>Retail</td>\n",
       "      <td>Breaking system</td>\n",
       "      <td>9</td>\n",
       "      <td>19.29</td>\n",
       "      <td>173.61</td>\n",
       "      <td>Cash</td>\n",
       "    </tr>\n",
       "    <tr>\n",
       "      <th>2</th>\n",
       "      <td>2021-06-01</td>\n",
       "      <td>North</td>\n",
       "      <td>Retail</td>\n",
       "      <td>Suspension &amp; traction</td>\n",
       "      <td>8</td>\n",
       "      <td>32.93</td>\n",
       "      <td>263.45</td>\n",
       "      <td>Credit card</td>\n",
       "    </tr>\n",
       "    <tr>\n",
       "      <th>3</th>\n",
       "      <td>2021-06-01</td>\n",
       "      <td>North</td>\n",
       "      <td>Wholesale</td>\n",
       "      <td>Frame &amp; body</td>\n",
       "      <td>16</td>\n",
       "      <td>37.84</td>\n",
       "      <td>605.44</td>\n",
       "      <td>Transfer</td>\n",
       "    </tr>\n",
       "    <tr>\n",
       "      <th>4</th>\n",
       "      <td>2021-06-01</td>\n",
       "      <td>Central</td>\n",
       "      <td>Retail</td>\n",
       "      <td>Engine</td>\n",
       "      <td>2</td>\n",
       "      <td>60.48</td>\n",
       "      <td>120.96</td>\n",
       "      <td>Credit card</td>\n",
       "    </tr>\n",
       "  </tbody>\n",
       "</table>\n",
       "</div>"
      ],
      "text/plain": [
       "        date warehouse client_type           product_line  quantity  \\\n",
       "0 2021-06-01   Central      Retail          Miscellaneous         8   \n",
       "1 2021-06-01     North      Retail        Breaking system         9   \n",
       "2 2021-06-01     North      Retail  Suspension & traction         8   \n",
       "3 2021-06-01     North   Wholesale           Frame & body        16   \n",
       "4 2021-06-01   Central      Retail                 Engine         2   \n",
       "\n",
       "   unit_price   total      payment  \n",
       "0       16.85  134.83  Credit card  \n",
       "1       19.29  173.61         Cash  \n",
       "2       32.93  263.45  Credit card  \n",
       "3       37.84  605.44     Transfer  \n",
       "4       60.48  120.96  Credit card  "
      ]
     },
     "execution_count": 24,
     "metadata": {},
     "output_type": "execute_result"
    }
   ],
   "source": [
    "sales_df.head()"
   ]
  },
  {
   "cell_type": "code",
   "execution_count": 25,
   "id": "df6d20f2",
   "metadata": {},
   "outputs": [],
   "source": [
    "client_quantity = sales_df.groupby(\"client_type\", as_index = False)[\"quantity\"].mean()"
   ]
  },
  {
   "cell_type": "code",
   "execution_count": 26,
   "id": "278b0ca5",
   "metadata": {},
   "outputs": [
    {
     "data": {
      "text/html": [
       "<div>\n",
       "<style scoped>\n",
       "    .dataframe tbody tr th:only-of-type {\n",
       "        vertical-align: middle;\n",
       "    }\n",
       "\n",
       "    .dataframe tbody tr th {\n",
       "        vertical-align: top;\n",
       "    }\n",
       "\n",
       "    .dataframe thead th {\n",
       "        text-align: right;\n",
       "    }\n",
       "</style>\n",
       "<table border=\"1\" class=\"dataframe\">\n",
       "  <thead>\n",
       "    <tr style=\"text-align: right;\">\n",
       "      <th></th>\n",
       "      <th>client_type</th>\n",
       "      <th>quantity</th>\n",
       "    </tr>\n",
       "  </thead>\n",
       "  <tbody>\n",
       "    <tr>\n",
       "      <th>0</th>\n",
       "      <td>Retail</td>\n",
       "      <td>5.438710</td>\n",
       "    </tr>\n",
       "    <tr>\n",
       "      <th>1</th>\n",
       "      <td>Wholesale</td>\n",
       "      <td>23.022222</td>\n",
       "    </tr>\n",
       "  </tbody>\n",
       "</table>\n",
       "</div>"
      ],
      "text/plain": [
       "  client_type   quantity\n",
       "0      Retail   5.438710\n",
       "1   Wholesale  23.022222"
      ]
     },
     "execution_count": 26,
     "metadata": {},
     "output_type": "execute_result"
    }
   ],
   "source": [
    "client_quantity\n"
   ]
  },
  {
   "cell_type": "code",
   "execution_count": 27,
   "id": "03ec8c2c",
   "metadata": {},
   "outputs": [
    {
     "data": {
      "text/html": [
       "<div>\n",
       "<style scoped>\n",
       "    .dataframe tbody tr th:only-of-type {\n",
       "        vertical-align: middle;\n",
       "    }\n",
       "\n",
       "    .dataframe tbody tr th {\n",
       "        vertical-align: top;\n",
       "    }\n",
       "\n",
       "    .dataframe thead th {\n",
       "        text-align: right;\n",
       "    }\n",
       "</style>\n",
       "<table border=\"1\" class=\"dataframe\">\n",
       "  <thead>\n",
       "    <tr style=\"text-align: right;\">\n",
       "      <th></th>\n",
       "      <th>warehouse</th>\n",
       "      <th>total</th>\n",
       "    </tr>\n",
       "  </thead>\n",
       "  <tbody>\n",
       "    <tr>\n",
       "      <th>0</th>\n",
       "      <td>Central</td>\n",
       "      <td>295.797667</td>\n",
       "    </tr>\n",
       "    <tr>\n",
       "      <th>1</th>\n",
       "      <td>North</td>\n",
       "      <td>294.716559</td>\n",
       "    </tr>\n",
       "    <tr>\n",
       "      <th>2</th>\n",
       "      <td>West</td>\n",
       "      <td>260.702722</td>\n",
       "    </tr>\n",
       "  </tbody>\n",
       "</table>\n",
       "</div>"
      ],
      "text/plain": [
       "  warehouse       total\n",
       "0   Central  295.797667\n",
       "1     North  294.716559\n",
       "2      West  260.702722"
      ]
     },
     "execution_count": 27,
     "metadata": {},
     "output_type": "execute_result"
    }
   ],
   "source": [
    "warehouse_total = sales_df.groupby(\"warehouse\",as_index=False)[\"total\"].mean()\n",
    "warehouse_total"
   ]
  },
  {
   "cell_type": "code",
   "execution_count": 28,
   "id": "0519ba98",
   "metadata": {},
   "outputs": [
    {
     "data": {
      "text/html": [
       "<div>\n",
       "<style scoped>\n",
       "    .dataframe tbody tr th:only-of-type {\n",
       "        vertical-align: middle;\n",
       "    }\n",
       "\n",
       "    .dataframe tbody tr th {\n",
       "        vertical-align: top;\n",
       "    }\n",
       "\n",
       "    .dataframe thead th {\n",
       "        text-align: right;\n",
       "    }\n",
       "</style>\n",
       "<table border=\"1\" class=\"dataframe\">\n",
       "  <thead>\n",
       "    <tr style=\"text-align: right;\">\n",
       "      <th></th>\n",
       "      <th>date</th>\n",
       "      <th>warehouse</th>\n",
       "      <th>client_type</th>\n",
       "      <th>product_line</th>\n",
       "      <th>quantity</th>\n",
       "      <th>unit_price</th>\n",
       "      <th>total</th>\n",
       "      <th>payment</th>\n",
       "      <th>month</th>\n",
       "    </tr>\n",
       "  </thead>\n",
       "  <tbody>\n",
       "    <tr>\n",
       "      <th>0</th>\n",
       "      <td>2021-06-01</td>\n",
       "      <td>Central</td>\n",
       "      <td>Retail</td>\n",
       "      <td>Miscellaneous</td>\n",
       "      <td>8</td>\n",
       "      <td>16.85</td>\n",
       "      <td>134.83</td>\n",
       "      <td>Credit card</td>\n",
       "      <td>6</td>\n",
       "    </tr>\n",
       "    <tr>\n",
       "      <th>1</th>\n",
       "      <td>2021-06-01</td>\n",
       "      <td>North</td>\n",
       "      <td>Retail</td>\n",
       "      <td>Breaking system</td>\n",
       "      <td>9</td>\n",
       "      <td>19.29</td>\n",
       "      <td>173.61</td>\n",
       "      <td>Cash</td>\n",
       "      <td>6</td>\n",
       "    </tr>\n",
       "    <tr>\n",
       "      <th>2</th>\n",
       "      <td>2021-06-01</td>\n",
       "      <td>North</td>\n",
       "      <td>Retail</td>\n",
       "      <td>Suspension &amp; traction</td>\n",
       "      <td>8</td>\n",
       "      <td>32.93</td>\n",
       "      <td>263.45</td>\n",
       "      <td>Credit card</td>\n",
       "      <td>6</td>\n",
       "    </tr>\n",
       "    <tr>\n",
       "      <th>3</th>\n",
       "      <td>2021-06-01</td>\n",
       "      <td>North</td>\n",
       "      <td>Wholesale</td>\n",
       "      <td>Frame &amp; body</td>\n",
       "      <td>16</td>\n",
       "      <td>37.84</td>\n",
       "      <td>605.44</td>\n",
       "      <td>Transfer</td>\n",
       "      <td>6</td>\n",
       "    </tr>\n",
       "    <tr>\n",
       "      <th>4</th>\n",
       "      <td>2021-06-01</td>\n",
       "      <td>Central</td>\n",
       "      <td>Retail</td>\n",
       "      <td>Engine</td>\n",
       "      <td>2</td>\n",
       "      <td>60.48</td>\n",
       "      <td>120.96</td>\n",
       "      <td>Credit card</td>\n",
       "      <td>6</td>\n",
       "    </tr>\n",
       "    <tr>\n",
       "      <th>...</th>\n",
       "      <td>...</td>\n",
       "      <td>...</td>\n",
       "      <td>...</td>\n",
       "      <td>...</td>\n",
       "      <td>...</td>\n",
       "      <td>...</td>\n",
       "      <td>...</td>\n",
       "      <td>...</td>\n",
       "      <td>...</td>\n",
       "    </tr>\n",
       "    <tr>\n",
       "      <th>995</th>\n",
       "      <td>2021-08-28</td>\n",
       "      <td>Central</td>\n",
       "      <td>Retail</td>\n",
       "      <td>Electrical system</td>\n",
       "      <td>9</td>\n",
       "      <td>32.87</td>\n",
       "      <td>295.83</td>\n",
       "      <td>Credit card</td>\n",
       "      <td>8</td>\n",
       "    </tr>\n",
       "    <tr>\n",
       "      <th>996</th>\n",
       "      <td>2021-08-28</td>\n",
       "      <td>West</td>\n",
       "      <td>Wholesale</td>\n",
       "      <td>Breaking system</td>\n",
       "      <td>32</td>\n",
       "      <td>10.03</td>\n",
       "      <td>320.96</td>\n",
       "      <td>Transfer</td>\n",
       "      <td>8</td>\n",
       "    </tr>\n",
       "    <tr>\n",
       "      <th>997</th>\n",
       "      <td>2021-08-28</td>\n",
       "      <td>West</td>\n",
       "      <td>Wholesale</td>\n",
       "      <td>Electrical system</td>\n",
       "      <td>12</td>\n",
       "      <td>32.80</td>\n",
       "      <td>393.64</td>\n",
       "      <td>Transfer</td>\n",
       "      <td>8</td>\n",
       "    </tr>\n",
       "    <tr>\n",
       "      <th>998</th>\n",
       "      <td>2021-08-28</td>\n",
       "      <td>North</td>\n",
       "      <td>Retail</td>\n",
       "      <td>Frame &amp; body</td>\n",
       "      <td>5</td>\n",
       "      <td>48.25</td>\n",
       "      <td>241.23</td>\n",
       "      <td>Cash</td>\n",
       "      <td>8</td>\n",
       "    </tr>\n",
       "    <tr>\n",
       "      <th>999</th>\n",
       "      <td>2021-08-28</td>\n",
       "      <td>North</td>\n",
       "      <td>Wholesale</td>\n",
       "      <td>Electrical system</td>\n",
       "      <td>20</td>\n",
       "      <td>27.41</td>\n",
       "      <td>548.13</td>\n",
       "      <td>Transfer</td>\n",
       "      <td>8</td>\n",
       "    </tr>\n",
       "  </tbody>\n",
       "</table>\n",
       "<p>1000 rows × 9 columns</p>\n",
       "</div>"
      ],
      "text/plain": [
       "          date warehouse client_type           product_line  quantity  \\\n",
       "0   2021-06-01   Central      Retail          Miscellaneous         8   \n",
       "1   2021-06-01     North      Retail        Breaking system         9   \n",
       "2   2021-06-01     North      Retail  Suspension & traction         8   \n",
       "3   2021-06-01     North   Wholesale           Frame & body        16   \n",
       "4   2021-06-01   Central      Retail                 Engine         2   \n",
       "..         ...       ...         ...                    ...       ...   \n",
       "995 2021-08-28   Central      Retail      Electrical system         9   \n",
       "996 2021-08-28      West   Wholesale        Breaking system        32   \n",
       "997 2021-08-28      West   Wholesale      Electrical system        12   \n",
       "998 2021-08-28     North      Retail           Frame & body         5   \n",
       "999 2021-08-28     North   Wholesale      Electrical system        20   \n",
       "\n",
       "     unit_price   total      payment  month  \n",
       "0         16.85  134.83  Credit card      6  \n",
       "1         19.29  173.61         Cash      6  \n",
       "2         32.93  263.45  Credit card      6  \n",
       "3         37.84  605.44     Transfer      6  \n",
       "4         60.48  120.96  Credit card      6  \n",
       "..          ...     ...          ...    ...  \n",
       "995       32.87  295.83  Credit card      8  \n",
       "996       10.03  320.96     Transfer      8  \n",
       "997       32.80  393.64     Transfer      8  \n",
       "998       48.25  241.23         Cash      8  \n",
       "999       27.41  548.13     Transfer      8  \n",
       "\n",
       "[1000 rows x 9 columns]"
      ]
     },
     "execution_count": 28,
     "metadata": {},
     "output_type": "execute_result"
    }
   ],
   "source": [
    "sales_df[\"month\"]=sales_df[\"date\"].dt.month\n",
    "sales_df"
   ]
  },
  {
   "cell_type": "code",
   "execution_count": 29,
   "id": "6f7a36f2",
   "metadata": {},
   "outputs": [
    {
     "data": {
      "text/html": [
       "<div>\n",
       "<style scoped>\n",
       "    .dataframe tbody tr th:only-of-type {\n",
       "        vertical-align: middle;\n",
       "    }\n",
       "\n",
       "    .dataframe tbody tr th {\n",
       "        vertical-align: top;\n",
       "    }\n",
       "\n",
       "    .dataframe thead th {\n",
       "        text-align: right;\n",
       "    }\n",
       "</style>\n",
       "<table border=\"1\" class=\"dataframe\">\n",
       "  <thead>\n",
       "    <tr style=\"text-align: right;\">\n",
       "      <th></th>\n",
       "      <th>month</th>\n",
       "      <th>total</th>\n",
       "    </tr>\n",
       "  </thead>\n",
       "  <tbody>\n",
       "    <tr>\n",
       "      <th>0</th>\n",
       "      <td>6</td>\n",
       "      <td>95320.03</td>\n",
       "    </tr>\n",
       "    <tr>\n",
       "      <th>1</th>\n",
       "      <td>7</td>\n",
       "      <td>93547.91</td>\n",
       "    </tr>\n",
       "    <tr>\n",
       "      <th>2</th>\n",
       "      <td>8</td>\n",
       "      <td>100245.06</td>\n",
       "    </tr>\n",
       "  </tbody>\n",
       "</table>\n",
       "</div>"
      ],
      "text/plain": [
       "   month      total\n",
       "0      6   95320.03\n",
       "1      7   93547.91\n",
       "2      8  100245.06"
      ]
     },
     "execution_count": 29,
     "metadata": {},
     "output_type": "execute_result"
    }
   ],
   "source": [
    "totalsales_per_month = sales_df.groupby(\"month\", as_index = False)[\"total\"].sum()\n",
    "totalsales_per_month"
   ]
  },
  {
   "cell_type": "code",
   "execution_count": null,
   "id": "7cbf8ad6",
   "metadata": {},
   "outputs": [],
   "source": []
  }
 ],
 "metadata": {
  "kernelspec": {
   "display_name": "Python 3 (ipykernel)",
   "language": "python",
   "name": "python3"
  },
  "language_info": {
   "codemirror_mode": {
    "name": "ipython",
    "version": 3
   },
   "file_extension": ".py",
   "mimetype": "text/x-python",
   "name": "python",
   "nbconvert_exporter": "python",
   "pygments_lexer": "ipython3",
   "version": "3.10.9"
  }
 },
 "nbformat": 4,
 "nbformat_minor": 5
}
